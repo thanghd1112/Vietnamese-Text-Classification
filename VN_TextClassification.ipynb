{
  "nbformat": 4,
  "nbformat_minor": 0,
  "metadata": {
    "colab": {
      "provenance": [],
      "gpuType": "T4"
    },
    "kernelspec": {
      "name": "python3",
      "display_name": "Python 3"
    },
    "language_info": {
      "name": "python"
    },
    "accelerator": "GPU"
  },
  "cells": [
    {
      "cell_type": "code",
      "source": [
        "from google.colab import drive\n",
        "drive.mount('/content/drive')"
      ],
      "metadata": {
        "colab": {
          "base_uri": "https://localhost:8080/"
        },
        "id": "o6SH5Y0lP-0W",
        "outputId": "b2d31c92-6fec-4912-b304-a4a2708d6156"
      },
      "execution_count": 3,
      "outputs": [
        {
          "output_type": "stream",
          "name": "stdout",
          "text": [
            "Drive already mounted at /content/drive; to attempt to forcibly remount, call drive.mount(\"/content/drive\", force_remount=True).\n"
          ]
        }
      ]
    },
    {
      "cell_type": "code",
      "source": [
        "!wget https://github.com/vncorenlp/VnCoreNLP/archive/refs/heads/master.zip\n",
        "!unzip master.zip\n",
        "!rm -f master.zip\n",
        "!mv VnCoreNLP-master VnCoreNLP\n",
        "!pip install py_vncorenlp --quiet"
      ],
      "metadata": {
        "colab": {
          "base_uri": "https://localhost:8080/"
        },
        "id": "Aar7ZvFMHG8y",
        "outputId": "4a391fa1-0dbf-4ecd-86dd-c1124c098a8c"
      },
      "execution_count": 4,
      "outputs": [
        {
          "output_type": "stream",
          "name": "stdout",
          "text": [
            "--2024-07-10 15:27:44--  https://github.com/vncorenlp/VnCoreNLP/archive/refs/heads/master.zip\n",
            "Resolving github.com (github.com)... 140.82.116.4\n",
            "Connecting to github.com (github.com)|140.82.116.4|:443... connected.\n",
            "HTTP request sent, awaiting response... 302 Found\n",
            "Location: https://codeload.github.com/vncorenlp/VnCoreNLP/zip/refs/heads/master [following]\n",
            "--2024-07-10 15:27:44--  https://codeload.github.com/vncorenlp/VnCoreNLP/zip/refs/heads/master\n",
            "Resolving codeload.github.com (codeload.github.com)... 140.82.116.9\n",
            "Connecting to codeload.github.com (codeload.github.com)|140.82.116.9|:443... connected.\n",
            "HTTP request sent, awaiting response... 200 OK\n",
            "Length: unspecified [application/zip]\n",
            "Saving to: ‘master.zip’\n",
            "\n",
            "master.zip              [                 <=>] 160.84M  23.8MB/s    in 6.8s    \n",
            "\n",
            "2024-07-10 15:27:51 (23.8 MB/s) - ‘master.zip’ saved [168648997]\n",
            "\n",
            "Archive:  master.zip\n",
            "62bbc58fe5d113c898eae112656be97dcf50b3a0\n",
            "   creating: VnCoreNLP-master/\n",
            "  inflating: VnCoreNLP-master/LICENSE.md  \n",
            "  inflating: VnCoreNLP-master/Readme.md  \n",
            "  inflating: VnCoreNLP-master/TagsetDescription.md  \n",
            "  inflating: VnCoreNLP-master/VLSP2013_POS_tagset.pdf  \n",
            "  inflating: VnCoreNLP-master/VnCoreNLP-1.1.1.jar  \n",
            "  inflating: VnCoreNLP-master/VnCoreNLP-1.2.jar  \n",
            "  inflating: VnCoreNLP-master/VnDT-treebank-description.pdf  \n",
            "   creating: VnCoreNLP-master/models/\n",
            "   creating: VnCoreNLP-master/models/dep/\n",
            " extracting: VnCoreNLP-master/models/dep/vi-dep.xz  \n",
            "   creating: VnCoreNLP-master/models/ner/\n",
            " extracting: VnCoreNLP-master/models/ner/vi-500brownclusters.xz  \n",
            " extracting: VnCoreNLP-master/models/ner/vi-ner.xz  \n",
            " extracting: VnCoreNLP-master/models/ner/vi-pretrainedembeddings.xz  \n",
            "   creating: VnCoreNLP-master/models/postagger/\n",
            " extracting: VnCoreNLP-master/models/postagger/vi-tagger  \n",
            "   creating: VnCoreNLP-master/models/wordsegmenter/\n",
            "  inflating: VnCoreNLP-master/models/wordsegmenter/vi-vocab  \n",
            "  inflating: VnCoreNLP-master/models/wordsegmenter/wordsegmenter.rdr  \n",
            "  inflating: VnCoreNLP-master/pom.xml  \n",
            "   creating: VnCoreNLP-master/src/\n",
            "   creating: VnCoreNLP-master/src/main/\n",
            "   creating: VnCoreNLP-master/src/main/java/\n",
            "   creating: VnCoreNLP-master/src/main/java/vn/\n",
            "   creating: VnCoreNLP-master/src/main/java/vn/corenlp/\n",
            "   creating: VnCoreNLP-master/src/main/java/vn/corenlp/ner/\n",
            "  inflating: VnCoreNLP-master/src/main/java/vn/corenlp/ner/NerRecognizer.java  \n",
            "   creating: VnCoreNLP-master/src/main/java/vn/corenlp/parser/\n",
            "  inflating: VnCoreNLP-master/src/main/java/vn/corenlp/parser/DependencyParser.java  \n",
            "   creating: VnCoreNLP-master/src/main/java/vn/corenlp/postagger/\n",
            "  inflating: VnCoreNLP-master/src/main/java/vn/corenlp/postagger/PosTagger.java  \n",
            "   creating: VnCoreNLP-master/src/main/java/vn/corenlp/tokenizer/\n",
            "  inflating: VnCoreNLP-master/src/main/java/vn/corenlp/tokenizer/StringUtils.java  \n",
            "  inflating: VnCoreNLP-master/src/main/java/vn/corenlp/tokenizer/Tokenizer.java  \n",
            "   creating: VnCoreNLP-master/src/main/java/vn/corenlp/wordsegmenter/\n",
            "  inflating: VnCoreNLP-master/src/main/java/vn/corenlp/wordsegmenter/FWObject.java  \n",
            "  inflating: VnCoreNLP-master/src/main/java/vn/corenlp/wordsegmenter/Node.java  \n",
            "  inflating: VnCoreNLP-master/src/main/java/vn/corenlp/wordsegmenter/Utils.java  \n",
            "  inflating: VnCoreNLP-master/src/main/java/vn/corenlp/wordsegmenter/Vocabulary.java  \n",
            "  inflating: VnCoreNLP-master/src/main/java/vn/corenlp/wordsegmenter/WordSegmenter.java  \n",
            "  inflating: VnCoreNLP-master/src/main/java/vn/corenlp/wordsegmenter/WordTag.java  \n",
            "   creating: VnCoreNLP-master/src/main/java/vn/pipeline/\n",
            "  inflating: VnCoreNLP-master/src/main/java/vn/pipeline/Annotation.java  \n",
            "  inflating: VnCoreNLP-master/src/main/java/vn/pipeline/LexicalInitializer.java  \n",
            "  inflating: VnCoreNLP-master/src/main/java/vn/pipeline/Sentence.java  \n",
            "  inflating: VnCoreNLP-master/src/main/java/vn/pipeline/Utils.java  \n",
            "  inflating: VnCoreNLP-master/src/main/java/vn/pipeline/VnCoreNLP.java  \n",
            "  inflating: VnCoreNLP-master/src/main/java/vn/pipeline/Word.java  \n",
            "   creating: VnCoreNLP-master/src/main/resources/\n",
            "  inflating: VnCoreNLP-master/src/main/resources/log4j.properties  \n",
            "   creating: VnCoreNLP-master/src/test/\n",
            "   creating: VnCoreNLP-master/src/test/java/\n",
            "  inflating: VnCoreNLP-master/src/test/java/VnCoreNLPExample.java  \n",
            "  Preparing metadata (setup.py) ... \u001b[?25l\u001b[?25hdone\n",
            "\u001b[2K     \u001b[90m━━━━━━━━━━━━━━━━━━━━━━━━━━━━━━━━━━━━━━━━\u001b[0m \u001b[32m1.5/1.5 MB\u001b[0m \u001b[31m8.7 MB/s\u001b[0m eta \u001b[36m0:00:00\u001b[0m\n",
            "\u001b[?25h  Building wheel for py_vncorenlp (setup.py) ... \u001b[?25l\u001b[?25hdone\n"
          ]
        }
      ]
    },
    {
      "cell_type": "code",
      "source": [
        "from string import punctuation\n",
        "import py_vncorenlp\n",
        "import pandas as pd\n",
        "from sklearn.feature_extraction.text import TfidfVectorizer\n",
        "from sklearn.model_selection import train_test_split\n",
        "from sklearn.linear_model import LogisticRegression\n",
        "from sklearn.metrics import accuracy_score, classification_report\n",
        "from sklearn.preprocessing import LabelEncoder\n",
        "import numpy as np\n",
        "from sklearn.linear_model import LogisticRegression"
      ],
      "metadata": {
        "id": "Qb894QwXJBzS"
      },
      "execution_count": 5,
      "outputs": []
    },
    {
      "cell_type": "code",
      "source": [
        "def clean_text(input_str):\n",
        "  my_punctuation = punctuation.replace('_', '')\n",
        "  output_str = vncorenlp_model.word_segment(input_str)\n",
        "  output_str = ''.join(output_str)\n",
        "  output_str = output_str.translate(str.maketrans('','',my_punctuation))\n",
        "  output_str = ' '.join(output_str.split())\n",
        "  return output_str.lower()"
      ],
      "metadata": {
        "id": "0vJQF7hgJz-S"
      },
      "execution_count": 6,
      "outputs": []
    },
    {
      "cell_type": "code",
      "source": [
        "vncorenlp_model = py_vncorenlp.VnCoreNLP(\n",
        "    annotators=[\"wseg\"],\n",
        "    save_dir='/content/VnCoreNLP'\n",
        ")"
      ],
      "metadata": {
        "id": "w51W4I0LLQyS"
      },
      "execution_count": 7,
      "outputs": []
    },
    {
      "cell_type": "code",
      "source": [
        "# Load the TSV file into a pandas DataFrame\n",
        "train_df = pd.read_csv(\"/content/drive/MyDrive/XLNNTN/TH/08/train.tsv\", sep='\\t',header=None, names=['text','label'])\n",
        "valid_df = pd.read_csv(\"/content/drive/MyDrive/XLNNTN/TH/08/val.tsv\", sep='\\t',header=None, names=['text','label'])\n",
        "test_df = pd.read_csv(\"/content/drive/MyDrive/XLNNTN/TH/08/test.tsv\", sep='\\t',header=None, names=['text','label'])\n",
        "\n",
        "train_df['clean_text'] = train_df['text'].apply(clean_text)\n",
        "test_df['clean_text'] = test_df['text'].apply(clean_text)"
      ],
      "metadata": {
        "id": "rwbbV1OUF1g9"
      },
      "execution_count": 9,
      "outputs": []
    },
    {
      "cell_type": "code",
      "source": [
        "train_df.head()"
      ],
      "metadata": {
        "colab": {
          "base_uri": "https://localhost:8080/",
          "height": 293
        },
        "id": "q-2ZN07kF71s",
        "outputId": "250e3e2f-c75a-476f-e29e-00c07f69fc85"
      },
      "execution_count": 10,
      "outputs": [
        {
          "output_type": "execute_result",
          "data": {
            "text/plain": [
              "                                                text    label  \\\n",
              "0  Ba Lan sa thải HLV Santos sau sáu trận. Liên đ...  thethao   \n",
              "1  Trữ trứng để sinh con được bao lâu?. Tôi 32 tu...  suckhoe   \n",
              "2  Thường xuyên đau lưng là bệnh gì?. Lưng vợ tôi...  suckhoe   \n",
              "3  Người mẹ bỏ chữa ung thư để tìm sự sống cho co...  doisong   \n",
              "4  Nguy cơ Covid đồng nhiễm virus, vi khuẩn gây b...  suckhoe   \n",
              "\n",
              "                                          clean_text  \n",
              "0  ba_lan sa_thải hlv santos sau sáu trận liên_đo...  \n",
              "1  trữ trứng để sinh con được bao_lâu tôi 32 tuổi...  \n",
              "2  thường_xuyên đau lưng là bệnh gì lưng vợ tôi t...  \n",
              "3  người mẹ bỏ chữa ung_thư để tìm sự sống cho co...  \n",
              "4  nguy_cơ covid đồng nhiễm virus vi_khuẩn gây bệ...  "
            ],
            "text/html": [
              "\n",
              "  <div id=\"df-6da3f648-57b4-411d-ba24-5c94a4baaefb\" class=\"colab-df-container\">\n",
              "    <div>\n",
              "<style scoped>\n",
              "    .dataframe tbody tr th:only-of-type {\n",
              "        vertical-align: middle;\n",
              "    }\n",
              "\n",
              "    .dataframe tbody tr th {\n",
              "        vertical-align: top;\n",
              "    }\n",
              "\n",
              "    .dataframe thead th {\n",
              "        text-align: right;\n",
              "    }\n",
              "</style>\n",
              "<table border=\"1\" class=\"dataframe\">\n",
              "  <thead>\n",
              "    <tr style=\"text-align: right;\">\n",
              "      <th></th>\n",
              "      <th>text</th>\n",
              "      <th>label</th>\n",
              "      <th>clean_text</th>\n",
              "    </tr>\n",
              "  </thead>\n",
              "  <tbody>\n",
              "    <tr>\n",
              "      <th>0</th>\n",
              "      <td>Ba Lan sa thải HLV Santos sau sáu trận. Liên đ...</td>\n",
              "      <td>thethao</td>\n",
              "      <td>ba_lan sa_thải hlv santos sau sáu trận liên_đo...</td>\n",
              "    </tr>\n",
              "    <tr>\n",
              "      <th>1</th>\n",
              "      <td>Trữ trứng để sinh con được bao lâu?. Tôi 32 tu...</td>\n",
              "      <td>suckhoe</td>\n",
              "      <td>trữ trứng để sinh con được bao_lâu tôi 32 tuổi...</td>\n",
              "    </tr>\n",
              "    <tr>\n",
              "      <th>2</th>\n",
              "      <td>Thường xuyên đau lưng là bệnh gì?. Lưng vợ tôi...</td>\n",
              "      <td>suckhoe</td>\n",
              "      <td>thường_xuyên đau lưng là bệnh gì lưng vợ tôi t...</td>\n",
              "    </tr>\n",
              "    <tr>\n",
              "      <th>3</th>\n",
              "      <td>Người mẹ bỏ chữa ung thư để tìm sự sống cho co...</td>\n",
              "      <td>doisong</td>\n",
              "      <td>người mẹ bỏ chữa ung_thư để tìm sự sống cho co...</td>\n",
              "    </tr>\n",
              "    <tr>\n",
              "      <th>4</th>\n",
              "      <td>Nguy cơ Covid đồng nhiễm virus, vi khuẩn gây b...</td>\n",
              "      <td>suckhoe</td>\n",
              "      <td>nguy_cơ covid đồng nhiễm virus vi_khuẩn gây bệ...</td>\n",
              "    </tr>\n",
              "  </tbody>\n",
              "</table>\n",
              "</div>\n",
              "    <div class=\"colab-df-buttons\">\n",
              "\n",
              "  <div class=\"colab-df-container\">\n",
              "    <button class=\"colab-df-convert\" onclick=\"convertToInteractive('df-6da3f648-57b4-411d-ba24-5c94a4baaefb')\"\n",
              "            title=\"Convert this dataframe to an interactive table.\"\n",
              "            style=\"display:none;\">\n",
              "\n",
              "  <svg xmlns=\"http://www.w3.org/2000/svg\" height=\"24px\" viewBox=\"0 -960 960 960\">\n",
              "    <path d=\"M120-120v-720h720v720H120Zm60-500h600v-160H180v160Zm220 220h160v-160H400v160Zm0 220h160v-160H400v160ZM180-400h160v-160H180v160Zm440 0h160v-160H620v160ZM180-180h160v-160H180v160Zm440 0h160v-160H620v160Z\"/>\n",
              "  </svg>\n",
              "    </button>\n",
              "\n",
              "  <style>\n",
              "    .colab-df-container {\n",
              "      display:flex;\n",
              "      gap: 12px;\n",
              "    }\n",
              "\n",
              "    .colab-df-convert {\n",
              "      background-color: #E8F0FE;\n",
              "      border: none;\n",
              "      border-radius: 50%;\n",
              "      cursor: pointer;\n",
              "      display: none;\n",
              "      fill: #1967D2;\n",
              "      height: 32px;\n",
              "      padding: 0 0 0 0;\n",
              "      width: 32px;\n",
              "    }\n",
              "\n",
              "    .colab-df-convert:hover {\n",
              "      background-color: #E2EBFA;\n",
              "      box-shadow: 0px 1px 2px rgba(60, 64, 67, 0.3), 0px 1px 3px 1px rgba(60, 64, 67, 0.15);\n",
              "      fill: #174EA6;\n",
              "    }\n",
              "\n",
              "    .colab-df-buttons div {\n",
              "      margin-bottom: 4px;\n",
              "    }\n",
              "\n",
              "    [theme=dark] .colab-df-convert {\n",
              "      background-color: #3B4455;\n",
              "      fill: #D2E3FC;\n",
              "    }\n",
              "\n",
              "    [theme=dark] .colab-df-convert:hover {\n",
              "      background-color: #434B5C;\n",
              "      box-shadow: 0px 1px 3px 1px rgba(0, 0, 0, 0.15);\n",
              "      filter: drop-shadow(0px 1px 2px rgba(0, 0, 0, 0.3));\n",
              "      fill: #FFFFFF;\n",
              "    }\n",
              "  </style>\n",
              "\n",
              "    <script>\n",
              "      const buttonEl =\n",
              "        document.querySelector('#df-6da3f648-57b4-411d-ba24-5c94a4baaefb button.colab-df-convert');\n",
              "      buttonEl.style.display =\n",
              "        google.colab.kernel.accessAllowed ? 'block' : 'none';\n",
              "\n",
              "      async function convertToInteractive(key) {\n",
              "        const element = document.querySelector('#df-6da3f648-57b4-411d-ba24-5c94a4baaefb');\n",
              "        const dataTable =\n",
              "          await google.colab.kernel.invokeFunction('convertToInteractive',\n",
              "                                                    [key], {});\n",
              "        if (!dataTable) return;\n",
              "\n",
              "        const docLinkHtml = 'Like what you see? Visit the ' +\n",
              "          '<a target=\"_blank\" href=https://colab.research.google.com/notebooks/data_table.ipynb>data table notebook</a>'\n",
              "          + ' to learn more about interactive tables.';\n",
              "        element.innerHTML = '';\n",
              "        dataTable['output_type'] = 'display_data';\n",
              "        await google.colab.output.renderOutput(dataTable, element);\n",
              "        const docLink = document.createElement('div');\n",
              "        docLink.innerHTML = docLinkHtml;\n",
              "        element.appendChild(docLink);\n",
              "      }\n",
              "    </script>\n",
              "  </div>\n",
              "\n",
              "\n",
              "<div id=\"df-3ab0714f-cba0-44c4-8d32-c57aca5430a9\">\n",
              "  <button class=\"colab-df-quickchart\" onclick=\"quickchart('df-3ab0714f-cba0-44c4-8d32-c57aca5430a9')\"\n",
              "            title=\"Suggest charts\"\n",
              "            style=\"display:none;\">\n",
              "\n",
              "<svg xmlns=\"http://www.w3.org/2000/svg\" height=\"24px\"viewBox=\"0 0 24 24\"\n",
              "     width=\"24px\">\n",
              "    <g>\n",
              "        <path d=\"M19 3H5c-1.1 0-2 .9-2 2v14c0 1.1.9 2 2 2h14c1.1 0 2-.9 2-2V5c0-1.1-.9-2-2-2zM9 17H7v-7h2v7zm4 0h-2V7h2v10zm4 0h-2v-4h2v4z\"/>\n",
              "    </g>\n",
              "</svg>\n",
              "  </button>\n",
              "\n",
              "<style>\n",
              "  .colab-df-quickchart {\n",
              "      --bg-color: #E8F0FE;\n",
              "      --fill-color: #1967D2;\n",
              "      --hover-bg-color: #E2EBFA;\n",
              "      --hover-fill-color: #174EA6;\n",
              "      --disabled-fill-color: #AAA;\n",
              "      --disabled-bg-color: #DDD;\n",
              "  }\n",
              "\n",
              "  [theme=dark] .colab-df-quickchart {\n",
              "      --bg-color: #3B4455;\n",
              "      --fill-color: #D2E3FC;\n",
              "      --hover-bg-color: #434B5C;\n",
              "      --hover-fill-color: #FFFFFF;\n",
              "      --disabled-bg-color: #3B4455;\n",
              "      --disabled-fill-color: #666;\n",
              "  }\n",
              "\n",
              "  .colab-df-quickchart {\n",
              "    background-color: var(--bg-color);\n",
              "    border: none;\n",
              "    border-radius: 50%;\n",
              "    cursor: pointer;\n",
              "    display: none;\n",
              "    fill: var(--fill-color);\n",
              "    height: 32px;\n",
              "    padding: 0;\n",
              "    width: 32px;\n",
              "  }\n",
              "\n",
              "  .colab-df-quickchart:hover {\n",
              "    background-color: var(--hover-bg-color);\n",
              "    box-shadow: 0 1px 2px rgba(60, 64, 67, 0.3), 0 1px 3px 1px rgba(60, 64, 67, 0.15);\n",
              "    fill: var(--button-hover-fill-color);\n",
              "  }\n",
              "\n",
              "  .colab-df-quickchart-complete:disabled,\n",
              "  .colab-df-quickchart-complete:disabled:hover {\n",
              "    background-color: var(--disabled-bg-color);\n",
              "    fill: var(--disabled-fill-color);\n",
              "    box-shadow: none;\n",
              "  }\n",
              "\n",
              "  .colab-df-spinner {\n",
              "    border: 2px solid var(--fill-color);\n",
              "    border-color: transparent;\n",
              "    border-bottom-color: var(--fill-color);\n",
              "    animation:\n",
              "      spin 1s steps(1) infinite;\n",
              "  }\n",
              "\n",
              "  @keyframes spin {\n",
              "    0% {\n",
              "      border-color: transparent;\n",
              "      border-bottom-color: var(--fill-color);\n",
              "      border-left-color: var(--fill-color);\n",
              "    }\n",
              "    20% {\n",
              "      border-color: transparent;\n",
              "      border-left-color: var(--fill-color);\n",
              "      border-top-color: var(--fill-color);\n",
              "    }\n",
              "    30% {\n",
              "      border-color: transparent;\n",
              "      border-left-color: var(--fill-color);\n",
              "      border-top-color: var(--fill-color);\n",
              "      border-right-color: var(--fill-color);\n",
              "    }\n",
              "    40% {\n",
              "      border-color: transparent;\n",
              "      border-right-color: var(--fill-color);\n",
              "      border-top-color: var(--fill-color);\n",
              "    }\n",
              "    60% {\n",
              "      border-color: transparent;\n",
              "      border-right-color: var(--fill-color);\n",
              "    }\n",
              "    80% {\n",
              "      border-color: transparent;\n",
              "      border-right-color: var(--fill-color);\n",
              "      border-bottom-color: var(--fill-color);\n",
              "    }\n",
              "    90% {\n",
              "      border-color: transparent;\n",
              "      border-bottom-color: var(--fill-color);\n",
              "    }\n",
              "  }\n",
              "</style>\n",
              "\n",
              "  <script>\n",
              "    async function quickchart(key) {\n",
              "      const quickchartButtonEl =\n",
              "        document.querySelector('#' + key + ' button');\n",
              "      quickchartButtonEl.disabled = true;  // To prevent multiple clicks.\n",
              "      quickchartButtonEl.classList.add('colab-df-spinner');\n",
              "      try {\n",
              "        const charts = await google.colab.kernel.invokeFunction(\n",
              "            'suggestCharts', [key], {});\n",
              "      } catch (error) {\n",
              "        console.error('Error during call to suggestCharts:', error);\n",
              "      }\n",
              "      quickchartButtonEl.classList.remove('colab-df-spinner');\n",
              "      quickchartButtonEl.classList.add('colab-df-quickchart-complete');\n",
              "    }\n",
              "    (() => {\n",
              "      let quickchartButtonEl =\n",
              "        document.querySelector('#df-3ab0714f-cba0-44c4-8d32-c57aca5430a9 button');\n",
              "      quickchartButtonEl.style.display =\n",
              "        google.colab.kernel.accessAllowed ? 'block' : 'none';\n",
              "    })();\n",
              "  </script>\n",
              "</div>\n",
              "\n",
              "    </div>\n",
              "  </div>\n"
            ],
            "application/vnd.google.colaboratory.intrinsic+json": {
              "type": "dataframe",
              "variable_name": "train_df",
              "summary": "{\n  \"name\": \"train_df\",\n  \"rows\": 31745,\n  \"fields\": [\n    {\n      \"column\": \"text\",\n      \"properties\": {\n        \"dtype\": \"string\",\n        \"num_unique_values\": 31745,\n        \"samples\": [\n          \"C\\u00f3 n\\u00ean d\\u00e0nh 25% thu nh\\u1eadp \\u0111\\u1ec3 \\u0111\\u1ea7u t\\u01b0 c\\u1ed5 phi\\u1ebfu?. Chuy\\u00ean gia khuy\\u1ebfn ngh\\u1ecb n\\u00ean \\u0111a d\\u1ea1ng h\\u00f3a c\\u00e1c k\\u00eanh tr\\u1eef t\\u00e0i s\\u1ea3n v\\u00e0 x\\u00e1c \\u0111\\u1ecbnh m\\u1ed9t ph\\u01b0\\u01a1ng ph\\u00e1p \\u0111\\u1ea7u t\\u01b0 \\u0111\\u1ec3 tu\\u00e2n th\\u1ee7 k\\u1ef7 lu\\u1eadt r\\u00f3t ti\\u1ec1n \\u0111\\u1ec1u \\u0111\\u1eb7n.\",\n          \"M\\u1ed9t em b\\u00e9 t\\u1eed vong, 3 ng\\u01b0\\u1eddi h\\u00f4n m\\u00ea do ng\\u1ed9 \\u0111\\u1ed9c kh\\u00ed CO than s\\u01b0\\u1edfi. Gia \\u0111\\u00ecnh b\\u1ed1n ng\\u01b0\\u1eddi \\u1edf TP Long Xuy\\u00ean \\u0111\\u1ed1t than s\\u01b0\\u1edfi \\u1ea5m trong ph\\u00f2ng k\\u00edn, b\\u1ecb ng\\u1ed9 \\u0111\\u1ed9c CO, m\\u1ed9t ch\\u00e1u b\\u00e9 t\\u1eed vong, ba ng\\u01b0\\u1eddi h\\u00f4n m\\u00ea.\",\n          \"Ph\\u01b0\\u01a1ng ph\\u00e1p l\\u1ecdc nhanh 95% vi nh\\u1ef1a kh\\u1ecfi n\\u01b0\\u1edbc. C\\u00f4ng ty \\u0110\\u1ee9c ph\\u00e1t tri\\u1ec3n ph\\u01b0\\u01a1ng ph\\u00e1p khi\\u1ebfn vi nh\\u1ef1a k\\u1ebft t\\u1ee5 l\\u1ea1i trong n\\u01b0\\u1edbc, gi\\u00fap d\\u1ec5 d\\u00e0ng l\\u1ecdc ra v\\u00e0 \\u0111em t\\u00e1i ch\\u1ebf.\"\n        ],\n        \"semantic_type\": \"\",\n        \"description\": \"\"\n      }\n    },\n    {\n      \"column\": \"label\",\n      \"properties\": {\n        \"dtype\": \"category\",\n        \"num_unique_values\": 8,\n        \"samples\": [\n          \"suckhoe\",\n          \"thegioi\",\n          \"thethao\"\n        ],\n        \"semantic_type\": \"\",\n        \"description\": \"\"\n      }\n    },\n    {\n      \"column\": \"clean_text\",\n      \"properties\": {\n        \"dtype\": \"string\",\n        \"num_unique_values\": 31745,\n        \"samples\": [\n          \"c\\u00f3 n\\u00ean d\\u00e0nh 25 thu_nh\\u1eadp \\u0111\\u1ec3 \\u0111\\u1ea7u_t\\u01b0 c\\u1ed5_phi\\u1ebfu chuy\\u00ean_gia khuy\\u1ebfn_ngh\\u1ecb n\\u00ean \\u0111a_d\\u1ea1ng_ho\\u00e1 c\\u00e1c k\\u00eanh tr\\u1eef t\\u00e0i_s\\u1ea3n v\\u00e0 x\\u00e1c_\\u0111\\u1ecbnh m\\u1ed9t ph\\u01b0\\u01a1ng_ph\\u00e1p \\u0111\\u1ea7u_t\\u01b0 \\u0111\\u1ec3 tu\\u00e2n_th\\u1ee7 k\\u1ef7_lu\\u1eadt r\\u00f3t ti\\u1ec1n \\u0111\\u1ec1u_\\u0111\\u1eb7n\",\n          \"m\\u1ed9t em b\\u00e9 t\\u1eed_vong 3 ng\\u01b0\\u1eddi h\\u00f4n_m\\u00ea do ng\\u1ed9_\\u0111\\u1ed9c kh\\u00ed co than s\\u01b0\\u1edfi gia_\\u0111\\u00ecnh b\\u1ed1n ng\\u01b0\\u1eddi \\u1edf tp long_xuy\\u00ean \\u0111\\u1ed1t than s\\u01b0\\u1edfi \\u1ea5m trong ph\\u00f2ng k\\u00edn b\\u1ecb ng\\u1ed9_\\u0111\\u1ed9c co m\\u1ed9t ch\\u00e1u b\\u00e9 t\\u1eed_vong ba ng\\u01b0\\u1eddi h\\u00f4n_m\\u00ea\",\n          \"ph\\u01b0\\u01a1ng_ph\\u00e1p l\\u1ecdc nhanh 95 vi nh\\u1ef1a kh\\u1ecfi n\\u01b0\\u1edbc c\\u00f4ng_ty \\u0111\\u1ee9c ph\\u00e1t_tri\\u1ec3n ph\\u01b0\\u01a1ng_ph\\u00e1p khi\\u1ebfn vi nh\\u1ef1a k\\u1ebft_t\\u1ee5 l\\u1ea1i trong n\\u01b0\\u1edbc gi\\u00fap d\\u1ec5_d\\u00e0ng l\\u1ecdc ra v\\u00e0 \\u0111em t\\u00e1i_ch\\u1ebf\"\n        ],\n        \"semantic_type\": \"\",\n        \"description\": \"\"\n      }\n    }\n  ]\n}"
            }
          },
          "metadata": {},
          "execution_count": 10
        }
      ]
    },
    {
      "cell_type": "code",
      "source": [
        "print(train_df.shape)\n",
        "print(test_df.shape)"
      ],
      "metadata": {
        "colab": {
          "base_uri": "https://localhost:8080/"
        },
        "id": "cD4x_dnvM-JL",
        "outputId": "2b81fe2a-e048-409d-de6f-dc59ea39aaee"
      },
      "execution_count": 11,
      "outputs": [
        {
          "output_type": "stream",
          "name": "stdout",
          "text": [
            "(31745, 3)\n",
            "(9115, 3)\n"
          ]
        }
      ]
    },
    {
      "cell_type": "code",
      "source": [
        "train_text = train_df['clean_text'].tolist()\n",
        "train_label = train_df['label'].tolist()\n",
        "\n",
        "test_text = test_df['clean_text'].tolist()\n",
        "test_label = test_df['label'].tolist()\n",
        "\n",
        "corpus = train_text + test_text\n",
        "vectorizer = TfidfVectorizer()\n",
        "vectorizer.fit(corpus)"
      ],
      "metadata": {
        "colab": {
          "base_uri": "https://localhost:8080/",
          "height": 74
        },
        "id": "ui-JBBXDTSyy",
        "outputId": "ccd5b652-96d3-4807-c9b4-ad553f2e94f5"
      },
      "execution_count": 12,
      "outputs": [
        {
          "output_type": "execute_result",
          "data": {
            "text/plain": [
              "TfidfVectorizer()"
            ],
            "text/html": [
              "<style>#sk-container-id-1 {color: black;background-color: white;}#sk-container-id-1 pre{padding: 0;}#sk-container-id-1 div.sk-toggleable {background-color: white;}#sk-container-id-1 label.sk-toggleable__label {cursor: pointer;display: block;width: 100%;margin-bottom: 0;padding: 0.3em;box-sizing: border-box;text-align: center;}#sk-container-id-1 label.sk-toggleable__label-arrow:before {content: \"▸\";float: left;margin-right: 0.25em;color: #696969;}#sk-container-id-1 label.sk-toggleable__label-arrow:hover:before {color: black;}#sk-container-id-1 div.sk-estimator:hover label.sk-toggleable__label-arrow:before {color: black;}#sk-container-id-1 div.sk-toggleable__content {max-height: 0;max-width: 0;overflow: hidden;text-align: left;background-color: #f0f8ff;}#sk-container-id-1 div.sk-toggleable__content pre {margin: 0.2em;color: black;border-radius: 0.25em;background-color: #f0f8ff;}#sk-container-id-1 input.sk-toggleable__control:checked~div.sk-toggleable__content {max-height: 200px;max-width: 100%;overflow: auto;}#sk-container-id-1 input.sk-toggleable__control:checked~label.sk-toggleable__label-arrow:before {content: \"▾\";}#sk-container-id-1 div.sk-estimator input.sk-toggleable__control:checked~label.sk-toggleable__label {background-color: #d4ebff;}#sk-container-id-1 div.sk-label input.sk-toggleable__control:checked~label.sk-toggleable__label {background-color: #d4ebff;}#sk-container-id-1 input.sk-hidden--visually {border: 0;clip: rect(1px 1px 1px 1px);clip: rect(1px, 1px, 1px, 1px);height: 1px;margin: -1px;overflow: hidden;padding: 0;position: absolute;width: 1px;}#sk-container-id-1 div.sk-estimator {font-family: monospace;background-color: #f0f8ff;border: 1px dotted black;border-radius: 0.25em;box-sizing: border-box;margin-bottom: 0.5em;}#sk-container-id-1 div.sk-estimator:hover {background-color: #d4ebff;}#sk-container-id-1 div.sk-parallel-item::after {content: \"\";width: 100%;border-bottom: 1px solid gray;flex-grow: 1;}#sk-container-id-1 div.sk-label:hover label.sk-toggleable__label {background-color: #d4ebff;}#sk-container-id-1 div.sk-serial::before {content: \"\";position: absolute;border-left: 1px solid gray;box-sizing: border-box;top: 0;bottom: 0;left: 50%;z-index: 0;}#sk-container-id-1 div.sk-serial {display: flex;flex-direction: column;align-items: center;background-color: white;padding-right: 0.2em;padding-left: 0.2em;position: relative;}#sk-container-id-1 div.sk-item {position: relative;z-index: 1;}#sk-container-id-1 div.sk-parallel {display: flex;align-items: stretch;justify-content: center;background-color: white;position: relative;}#sk-container-id-1 div.sk-item::before, #sk-container-id-1 div.sk-parallel-item::before {content: \"\";position: absolute;border-left: 1px solid gray;box-sizing: border-box;top: 0;bottom: 0;left: 50%;z-index: -1;}#sk-container-id-1 div.sk-parallel-item {display: flex;flex-direction: column;z-index: 1;position: relative;background-color: white;}#sk-container-id-1 div.sk-parallel-item:first-child::after {align-self: flex-end;width: 50%;}#sk-container-id-1 div.sk-parallel-item:last-child::after {align-self: flex-start;width: 50%;}#sk-container-id-1 div.sk-parallel-item:only-child::after {width: 0;}#sk-container-id-1 div.sk-dashed-wrapped {border: 1px dashed gray;margin: 0 0.4em 0.5em 0.4em;box-sizing: border-box;padding-bottom: 0.4em;background-color: white;}#sk-container-id-1 div.sk-label label {font-family: monospace;font-weight: bold;display: inline-block;line-height: 1.2em;}#sk-container-id-1 div.sk-label-container {text-align: center;}#sk-container-id-1 div.sk-container {/* jupyter's `normalize.less` sets `[hidden] { display: none; }` but bootstrap.min.css set `[hidden] { display: none !important; }` so we also need the `!important` here to be able to override the default hidden behavior on the sphinx rendered scikit-learn.org. See: https://github.com/scikit-learn/scikit-learn/issues/21755 */display: inline-block !important;position: relative;}#sk-container-id-1 div.sk-text-repr-fallback {display: none;}</style><div id=\"sk-container-id-1\" class=\"sk-top-container\"><div class=\"sk-text-repr-fallback\"><pre>TfidfVectorizer()</pre><b>In a Jupyter environment, please rerun this cell to show the HTML representation or trust the notebook. <br />On GitHub, the HTML representation is unable to render, please try loading this page with nbviewer.org.</b></div><div class=\"sk-container\" hidden><div class=\"sk-item\"><div class=\"sk-estimator sk-toggleable\"><input class=\"sk-toggleable__control sk-hidden--visually\" id=\"sk-estimator-id-1\" type=\"checkbox\" checked><label for=\"sk-estimator-id-1\" class=\"sk-toggleable__label sk-toggleable__label-arrow\">TfidfVectorizer</label><div class=\"sk-toggleable__content\"><pre>TfidfVectorizer()</pre></div></div></div></div></div>"
            ]
          },
          "metadata": {},
          "execution_count": 12
        }
      ]
    },
    {
      "cell_type": "code",
      "source": [
        "le = LabelEncoder()\n",
        "le.fit(train_label)"
      ],
      "metadata": {
        "colab": {
          "base_uri": "https://localhost:8080/",
          "height": 74
        },
        "id": "GuOs3mwnTtFS",
        "outputId": "140fa2b4-0319-4f5a-a954-eaf8f3ca27fe"
      },
      "execution_count": 13,
      "outputs": [
        {
          "output_type": "execute_result",
          "data": {
            "text/plain": [
              "LabelEncoder()"
            ],
            "text/html": [
              "<style>#sk-container-id-2 {color: black;background-color: white;}#sk-container-id-2 pre{padding: 0;}#sk-container-id-2 div.sk-toggleable {background-color: white;}#sk-container-id-2 label.sk-toggleable__label {cursor: pointer;display: block;width: 100%;margin-bottom: 0;padding: 0.3em;box-sizing: border-box;text-align: center;}#sk-container-id-2 label.sk-toggleable__label-arrow:before {content: \"▸\";float: left;margin-right: 0.25em;color: #696969;}#sk-container-id-2 label.sk-toggleable__label-arrow:hover:before {color: black;}#sk-container-id-2 div.sk-estimator:hover label.sk-toggleable__label-arrow:before {color: black;}#sk-container-id-2 div.sk-toggleable__content {max-height: 0;max-width: 0;overflow: hidden;text-align: left;background-color: #f0f8ff;}#sk-container-id-2 div.sk-toggleable__content pre {margin: 0.2em;color: black;border-radius: 0.25em;background-color: #f0f8ff;}#sk-container-id-2 input.sk-toggleable__control:checked~div.sk-toggleable__content {max-height: 200px;max-width: 100%;overflow: auto;}#sk-container-id-2 input.sk-toggleable__control:checked~label.sk-toggleable__label-arrow:before {content: \"▾\";}#sk-container-id-2 div.sk-estimator input.sk-toggleable__control:checked~label.sk-toggleable__label {background-color: #d4ebff;}#sk-container-id-2 div.sk-label input.sk-toggleable__control:checked~label.sk-toggleable__label {background-color: #d4ebff;}#sk-container-id-2 input.sk-hidden--visually {border: 0;clip: rect(1px 1px 1px 1px);clip: rect(1px, 1px, 1px, 1px);height: 1px;margin: -1px;overflow: hidden;padding: 0;position: absolute;width: 1px;}#sk-container-id-2 div.sk-estimator {font-family: monospace;background-color: #f0f8ff;border: 1px dotted black;border-radius: 0.25em;box-sizing: border-box;margin-bottom: 0.5em;}#sk-container-id-2 div.sk-estimator:hover {background-color: #d4ebff;}#sk-container-id-2 div.sk-parallel-item::after {content: \"\";width: 100%;border-bottom: 1px solid gray;flex-grow: 1;}#sk-container-id-2 div.sk-label:hover label.sk-toggleable__label {background-color: #d4ebff;}#sk-container-id-2 div.sk-serial::before {content: \"\";position: absolute;border-left: 1px solid gray;box-sizing: border-box;top: 0;bottom: 0;left: 50%;z-index: 0;}#sk-container-id-2 div.sk-serial {display: flex;flex-direction: column;align-items: center;background-color: white;padding-right: 0.2em;padding-left: 0.2em;position: relative;}#sk-container-id-2 div.sk-item {position: relative;z-index: 1;}#sk-container-id-2 div.sk-parallel {display: flex;align-items: stretch;justify-content: center;background-color: white;position: relative;}#sk-container-id-2 div.sk-item::before, #sk-container-id-2 div.sk-parallel-item::before {content: \"\";position: absolute;border-left: 1px solid gray;box-sizing: border-box;top: 0;bottom: 0;left: 50%;z-index: -1;}#sk-container-id-2 div.sk-parallel-item {display: flex;flex-direction: column;z-index: 1;position: relative;background-color: white;}#sk-container-id-2 div.sk-parallel-item:first-child::after {align-self: flex-end;width: 50%;}#sk-container-id-2 div.sk-parallel-item:last-child::after {align-self: flex-start;width: 50%;}#sk-container-id-2 div.sk-parallel-item:only-child::after {width: 0;}#sk-container-id-2 div.sk-dashed-wrapped {border: 1px dashed gray;margin: 0 0.4em 0.5em 0.4em;box-sizing: border-box;padding-bottom: 0.4em;background-color: white;}#sk-container-id-2 div.sk-label label {font-family: monospace;font-weight: bold;display: inline-block;line-height: 1.2em;}#sk-container-id-2 div.sk-label-container {text-align: center;}#sk-container-id-2 div.sk-container {/* jupyter's `normalize.less` sets `[hidden] { display: none; }` but bootstrap.min.css set `[hidden] { display: none !important; }` so we also need the `!important` here to be able to override the default hidden behavior on the sphinx rendered scikit-learn.org. See: https://github.com/scikit-learn/scikit-learn/issues/21755 */display: inline-block !important;position: relative;}#sk-container-id-2 div.sk-text-repr-fallback {display: none;}</style><div id=\"sk-container-id-2\" class=\"sk-top-container\"><div class=\"sk-text-repr-fallback\"><pre>LabelEncoder()</pre><b>In a Jupyter environment, please rerun this cell to show the HTML representation or trust the notebook. <br />On GitHub, the HTML representation is unable to render, please try loading this page with nbviewer.org.</b></div><div class=\"sk-container\" hidden><div class=\"sk-item\"><div class=\"sk-estimator sk-toggleable\"><input class=\"sk-toggleable__control sk-hidden--visually\" id=\"sk-estimator-id-2\" type=\"checkbox\" checked><label for=\"sk-estimator-id-2\" class=\"sk-toggleable__label sk-toggleable__label-arrow\">LabelEncoder</label><div class=\"sk-toggleable__content\"><pre>LabelEncoder()</pre></div></div></div></div></div>"
            ]
          },
          "metadata": {},
          "execution_count": 13
        }
      ]
    },
    {
      "cell_type": "code",
      "source": [
        "X_train = vectorizer.transform(train_text)\n",
        "y_train = le.transform(train_label)\n",
        "\n",
        "X_test = vectorizer.transform(test_text)\n",
        "y_test = le.transform(test_label)\n",
        "\n",
        "print(X_train.shape)\n",
        "print(len(y_train))\n",
        "print(X_test.shape)\n",
        "print(len(y_test))"
      ],
      "metadata": {
        "id": "OpogAHLBTz0q",
        "colab": {
          "base_uri": "https://localhost:8080/"
        },
        "outputId": "94855917-6d9a-44c5-b706-a3761b763437"
      },
      "execution_count": 14,
      "outputs": [
        {
          "output_type": "stream",
          "name": "stdout",
          "text": [
            "(31745, 33979)\n",
            "31745\n",
            "(9115, 33979)\n",
            "9115\n"
          ]
        }
      ]
    },
    {
      "cell_type": "code",
      "source": [
        "clf = LogisticRegression(random_state=0,solver='lbfgs', max_iter=200, C=2).fit(X_train, y_train)\n",
        "y_pred = clf.predict(X_test)"
      ],
      "metadata": {
        "id": "Z8i9peu_ow6H"
      },
      "execution_count": 15,
      "outputs": []
    },
    {
      "cell_type": "code",
      "source": [
        "print(classification_report(y_test, y_pred, digits=4, target_names=le.classes_))"
      ],
      "metadata": {
        "colab": {
          "base_uri": "https://localhost:8080/"
        },
        "id": "2m8dLNokxdjU",
        "outputId": "f6bab90d-860c-4e3e-c327-965255d07335"
      },
      "execution_count": 16,
      "outputs": [
        {
          "output_type": "stream",
          "name": "stdout",
          "text": [
            "              precision    recall  f1-score   support\n",
            "\n",
            "     doisong     0.7706    0.7104    0.7393       473\n",
            "     giaoduc     0.9236    0.8917    0.9073       637\n",
            "     khoahoc     0.8787    0.8403    0.8591       595\n",
            "      kinhte     0.8809    0.8870    0.8839       867\n",
            "     suckhoe     0.9419    0.9734    0.9574      1917\n",
            "     thegioi     0.9421    0.9344    0.9382      1966\n",
            "     thethao     0.9870    0.9828    0.9849      1626\n",
            "      thoisu     0.8675    0.8994    0.8832      1034\n",
            "\n",
            "    accuracy                         0.9220      9115\n",
            "   macro avg     0.8990    0.8899    0.8942      9115\n",
            "weighted avg     0.9215    0.9220    0.9215      9115\n",
            "\n"
          ]
        }
      ]
    },
    {
      "cell_type": "markdown",
      "source": [
        "## BERT"
      ],
      "metadata": {
        "id": "qt8xzUYm6Rkf"
      }
    },
    {
      "cell_type": "code",
      "source": [
        "train_df = pd.read_csv(\"/content/drive/MyDrive/XLNNTN/TH/08/train.tsv\", sep='\\t',header=None, names=['text','label'])\n",
        "val_df = pd.read_csv(\"/content/drive/MyDrive/XLNNTN/TH/08/val.tsv\", sep='\\t',header=None, names=['text','label'])\n",
        "test_df = pd.read_csv(\"/content/drive/MyDrive/XLNNTN/TH/08/test.tsv\", sep='\\t',header=None, names=['text','label'])"
      ],
      "metadata": {
        "id": "ZZuwkCbUxnnY"
      },
      "execution_count": 23,
      "outputs": []
    },
    {
      "cell_type": "code",
      "source": [
        "from sklearn.preprocessing import LabelEncoder\n",
        "\n",
        "# Khởi tạo LabelEncoder và chuyển đổi nhãn\n",
        "label_encoder = LabelEncoder()\n",
        "train_labels = label_encoder.fit_transform(train_df['label'])\n",
        "val_labels = label_encoder.transform(val_df['label'])\n",
        "test_labels = label_encoder.transform(test_df['label'])\n"
      ],
      "metadata": {
        "id": "cIOY05YuAguH"
      },
      "execution_count": 24,
      "outputs": []
    },
    {
      "cell_type": "code",
      "source": [
        "from transformers import BertTokenizer\n",
        "\n",
        "# Sử dụng tokenizer của BERT\n",
        "tokenizer = BertTokenizer.from_pretrained('bert-base-uncased')\n",
        "\n",
        "def tokenize_data(data, text_column='text', max_length=128):\n",
        "    return tokenizer(\n",
        "        data[text_column].tolist(),\n",
        "        padding=True,\n",
        "        truncation=True,\n",
        "        max_length=max_length,\n",
        "        return_tensors=\"pt\"\n",
        "    )\n",
        "\n",
        "# Tokenize dữ liệu huấn luyện, validation, và kiểm tra với tên cột đúng\n",
        "train_encodings = tokenize_data(train_df, text_column='text')\n",
        "val_encodings = tokenize_data(val_df, text_column='text')\n",
        "test_encodings = tokenize_data(test_df, text_column='text')\n"
      ],
      "metadata": {
        "id": "l83wx1A6AoSW"
      },
      "execution_count": 25,
      "outputs": []
    },
    {
      "cell_type": "code",
      "source": [
        "import torch\n",
        "from torch.utils.data import DataLoader, TensorDataset\n",
        "\n",
        "# Tạo dataset cho DataLoader\n",
        "train_dataset = TensorDataset(\n",
        "    train_encodings['input_ids'],\n",
        "    train_encodings['attention_mask'],\n",
        "    torch.tensor(train_labels)\n",
        ")\n",
        "val_dataset = TensorDataset(\n",
        "    val_encodings['input_ids'],\n",
        "    val_encodings['attention_mask'],\n",
        "    torch.tensor(val_labels)\n",
        ")\n",
        "\n",
        "train_loader = DataLoader(train_dataset, batch_size=16, shuffle=True)\n",
        "val_loader = DataLoader(val_dataset, batch_size=16, shuffle=False)\n"
      ],
      "metadata": {
        "id": "-_L5N0Y_ArAk"
      },
      "execution_count": 26,
      "outputs": []
    },
    {
      "cell_type": "code",
      "source": [
        "from transformers import BertForSequenceClassification, AdamW\n",
        "\n",
        "# Số lượng nhãn\n",
        "num_labels = len(label_encoder.classes_)\n",
        "\n",
        "# mô hình BERT cho phân loại\n",
        "model = BertForSequenceClassification.from_pretrained('bert-base-uncased', num_labels=num_labels)\n",
        "\n",
        "device = torch.device('cuda') if torch.cuda.is_available() else torch.device('cpu')\n",
        "model.to(device)\n",
        "\n",
        "# optimizer\n",
        "optimizer = AdamW(model.parameters(), lr=5e-5)\n",
        "\n",
        "# Huấn luyện mô hình\n",
        "for epoch in range(4):\n",
        "    model.train()\n",
        "    total_loss = 0\n",
        "    for batch in train_loader:\n",
        "        optimizer.zero_grad()\n",
        "        input_ids, attention_mask, labels = [x.to(device) for x in batch]\n",
        "        outputs = model(input_ids, attention_mask=attention_mask, labels=labels)\n",
        "        loss = outputs.loss\n",
        "        loss.backward()\n",
        "        optimizer.step()\n",
        "        total_loss += loss.item()\n",
        "    avg_train_loss = total_loss / len(train_loader)\n",
        "\n",
        "    # Đánh giá trên validation set\n",
        "    model.eval()\n",
        "    total_eval_loss = 0\n",
        "    with torch.no_grad():\n",
        "        for batch in val_loader:\n",
        "            input_ids, attention_mask, labels = [x.to(device) for x in batch]\n",
        "            outputs = model(input_ids, attention_mask=attention_mask, labels=labels)\n",
        "            loss = outputs.loss\n",
        "            total_eval_loss += loss.item()\n",
        "    avg_val_loss = total_eval_loss / len(val_loader)\n",
        "\n",
        "    print(f'Epoch {epoch+1} - Training Loss: {avg_train_loss} - Validation Loss: {avg_val_loss}')\n"
      ],
      "metadata": {
        "colab": {
          "base_uri": "https://localhost:8080/"
        },
        "id": "iztk1oU9At0d",
        "outputId": "683f3676-b620-45f6-aa9c-16f8965b2cae"
      },
      "execution_count": 28,
      "outputs": [
        {
          "output_type": "stream",
          "name": "stderr",
          "text": [
            "Some weights of BertForSequenceClassification were not initialized from the model checkpoint at bert-base-uncased and are newly initialized: ['classifier.bias', 'classifier.weight']\n",
            "You should probably TRAIN this model on a down-stream task to be able to use it for predictions and inference.\n"
          ]
        },
        {
          "output_type": "stream",
          "name": "stdout",
          "text": [
            "Epoch 1 - Training Loss: 0.7270962964543974 - Validation Loss: 0.4804081721794775\n",
            "Epoch 2 - Training Loss: 0.36191258528539605 - Validation Loss: 0.3779588126514465\n",
            "Epoch 3 - Training Loss: 0.24383315466143782 - Validation Loss: 0.3654601074145358\n",
            "Epoch 4 - Training Loss: 0.1776474112305809 - Validation Loss: 0.3764150499310709\n"
          ]
        }
      ]
    },
    {
      "cell_type": "code",
      "source": [
        "# Đánh giá mô hình trên tập test\n",
        "test_dataset = TensorDataset(\n",
        "    test_encodings['input_ids'],\n",
        "    test_encodings['attention_mask'],\n",
        "    torch.tensor(test_labels)\n",
        ")\n",
        "test_loader = DataLoader(test_dataset, batch_size=16, shuffle=False)\n",
        "\n",
        "model.eval()\n",
        "predictions, true_labels = [], []\n",
        "\n",
        "with torch.no_grad():\n",
        "    for batch in test_loader:\n",
        "        input_ids, attention_mask, labels = [x.to(device) for x in batch]\n",
        "        outputs = model(input_ids, attention_mask=attention_mask)\n",
        "        logits = outputs.logits\n",
        "        predictions.extend(torch.argmax(logits, dim=1).cpu().numpy())\n",
        "        true_labels.extend(labels.cpu().numpy())\n",
        "\n",
        "report = classification_report(true_labels, predictions, target_names=label_encoder.classes_)\n",
        "print(report)\n"
      ],
      "metadata": {
        "colab": {
          "base_uri": "https://localhost:8080/"
        },
        "id": "mlbG7eUICzcr",
        "outputId": "ef0230cb-aa67-4a78-e2ff-9a26d28ad1f7"
      },
      "execution_count": 29,
      "outputs": [
        {
          "output_type": "stream",
          "name": "stdout",
          "text": [
            "              precision    recall  f1-score   support\n",
            "\n",
            "     doisong       0.74      0.60      0.66       473\n",
            "     giaoduc       0.89      0.91      0.90       637\n",
            "     khoahoc       0.82      0.76      0.79       595\n",
            "      kinhte       0.79      0.88      0.83       867\n",
            "     suckhoe       0.95      0.93      0.94      1917\n",
            "     thegioi       0.93      0.93      0.93      1966\n",
            "     thethao       0.99      0.97      0.98      1626\n",
            "      thoisu       0.78      0.85      0.82      1034\n",
            "\n",
            "    accuracy                           0.89      9115\n",
            "   macro avg       0.86      0.85      0.86      9115\n",
            "weighted avg       0.89      0.89      0.89      9115\n",
            "\n"
          ]
        }
      ]
    },
    {
      "cell_type": "markdown",
      "source": [
        "[tham khảo](https://www.kaggle.com/code/tanulsingh077/deep-learning-for-nlp-zero-to-transformers-bert?scriptVersionId=31944644&cellId=64)"
      ],
      "metadata": {
        "id": "wnq5olArVOeS"
      }
    }
  ]
}